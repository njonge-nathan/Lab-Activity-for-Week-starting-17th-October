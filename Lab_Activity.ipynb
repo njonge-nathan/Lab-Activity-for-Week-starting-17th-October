{
  "nbformat": 4,
  "nbformat_minor": 0,
  "metadata": {
    "colab": {
      "provenance": [],
      "toc_visible": true,
      "authorship_tag": "ABX9TyPPRVjicKOl9rcEGEbRMOk4",
      "include_colab_link": true
    },
    "kernelspec": {
      "name": "python3",
      "display_name": "Python 3"
    },
    "language_info": {
      "name": "python"
    }
  },
  "cells": [
    {
      "cell_type": "markdown",
      "metadata": {
        "id": "view-in-github",
        "colab_type": "text"
      },
      "source": [
        "<a href=\"https://colab.research.google.com/github/njonge-nathan/Lab-Activity-for-Week-starting-17th-October/blob/main/Lab_Activity.ipynb\" target=\"_parent\"><img src=\"https://colab.research.google.com/assets/colab-badge.svg\" alt=\"Open In Colab\"/></a>"
      ]
    },
    {
      "cell_type": "markdown",
      "source": [
        "\n",
        "*094230* - Nathan Njonge"
      ],
      "metadata": {
        "id": "ncPkBj-S2YYe"
      }
    },
    {
      "cell_type": "markdown",
      "source": [
        "\n",
        " \n",
        "\n",
        "# 1.   Review what syntax analysis is and in a few words, describe what this phase of compiler construction entails.\n",
        "\n",
        "\n",
        "\n",
        "\n"
      ],
      "metadata": {
        "id": "VCDcvBpI2oZk"
      }
    },
    {
      "cell_type": "markdown",
      "source": [
        "Syntax Analysis is a second phase of the compiler design process in which the given input string is checked for the confirmation of rules and structure of the formal grammar. It analyses the syntactical structure and checks if the given input is in the correct syntax of the programming language or not."
      ],
      "metadata": {
        "id": "futa99Mz2ykR"
      }
    },
    {
      "cell_type": "markdown",
      "source": [
        "Syntax Analysis in Compiler Design process comes after the Lexical analysis phase. It is also known as the Parse Tree or Syntax Tree. The Parse Tree is developed with the help of pre-defined grammar of the language. The syntax analyser also checks whether a given program fulfills the rules implied by a context-free grammar. If it satisfies, the parser then creates the parse tree of that source program. Otherwise, it will display error messages."
      ],
      "metadata": {
        "id": "XRWRoa8c24BM"
      }
    },
    {
      "cell_type": "markdown",
      "source": [
        "![020819_1151_SyntaxAnaly1.webp](data:image/webp;base64,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)"
      ],
      "metadata": {
        "id": "7vrBs9gs27rU"
      }
    },
    {
      "cell_type": "markdown",
      "source": [
        "# 2. Using Flex (lexical analyzer) and Bison (yacc), show how one can develop a simple syntax analyzer."
      ],
      "metadata": {
        "id": "e1FVkqVw3lbN"
      }
    },
    {
      "cell_type": "code",
      "execution_count": null,
      "metadata": {
        "id": "J_4gSOwT2SQB"
      },
      "outputs": [],
      "source": [
        "/* Lexical analyzer returns a double floating point \n",
        "   number on the stack and the token NUM, or the ASCII\n",
        "   character read if not a number.  Skips all blanks\n",
        "   and tabs, returns 0 for EOF. */\n",
        "\n",
        "#include <ctype.h>\n",
        "\n",
        "yylex ()\n",
        "{\n",
        "  int c;\n",
        "\n",
        "  /* skip white space  */\n",
        "  while ((c = getchar ()) == ' ' || c == '\\t')  \n",
        "    ;\n",
        "  /* process numbers   */\n",
        "  if (c == '.' || isdigit (c))                \n",
        "    {\n",
        "      ungetc (c, stdin);\n",
        "      scanf (\"%lf\", &yylval);\n",
        "      return NUM;\n",
        "    }\n",
        "  /* return end-of-file  */\n",
        "  if (c == EOF)                            \n",
        "    return 0;\n",
        "  /* return single chars */\n",
        "  return c;                                \n",
        "}\n",
        "\n",
        "T"
      ]
    },
    {
      "cell_type": "markdown",
      "source": [
        "This lexical analyzer skips blanks and tabs, then reads in numbers as double and returns them as NUM tokens. Any other character that isn't part of a number is a separate token. Note that the token-code for such a single-character token is the character itself.\n",
        "\n",
        "The return value of the lexical analyzer function is a numeric code which represents a token type. The same text used in Bison rules to stand for this token type is also a C expression for the numeric code for the type. This works in two ways. If the token type is a character literal, then its numeric code is the ASCII code for that character; you can use the same character literal in the lexical analyzer to express the number. If the token type is an identifier, that identifier is defined by Bison as a C macro whose definition is the appropriate number. In this example, therefore, NUM becomes a macro for yylex to use.\n",
        "\n",
        "The semantic value of the token (if it has one) is stored into the global variable yylval, which is where the Bison parser will look for it. (The C data type of yylval is YYSTYPE, which was defined at the beginning of the grammar; see section Declarations for rpcalc.)\n",
        "\n",
        "A token type code of zero is returned if the end-of-file is encountered. (Bison recognizes any nonpositive value as indicating the end of the input.)"
      ],
      "metadata": {
        "id": "O77zJS9z5cel"
      }
    }
  ]
}